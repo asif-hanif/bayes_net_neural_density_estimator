{
 "cells": [
  {
   "cell_type": "code",
   "execution_count": 1,
   "metadata": {
    "colab": {},
    "colab_type": "code",
    "id": "oiUjL3s_0b5x"
   },
   "outputs": [],
   "source": [
    "import importlib, sys\n",
    "import numpy as np\n",
    "import matplotlib.pyplot as plt \n",
    "from matplotlib.pyplot import figure\n",
    "import pandas as pd\n",
    "\n",
    "from helper_functions import *\n",
    "from inference import *\n",
    "importlib.reload(sys.modules['helper_functions'])\n",
    "importlib.reload(sys.modules['inference'])\n",
    "\n",
    "plt.style.use('seaborn')\n",
    "plt.rc('text', usetex=True)"
   ]
  },
  {
   "cell_type": "markdown",
   "metadata": {
    "colab_type": "text",
    "id": "12Dl8yg7MbvK"
   },
   "source": [
    "## Logistic Mixture Loss\n",
    "Documentation\n",
    "\n",
    "<img src= \"https://www.dropbox.com/s/sn1fcv1itwjwa9h/logistic_pdf.png?raw=1\" />  \n",
    "\n",
    "<br>\n",
    "<br>\n",
    "\n",
    "---\n",
    "---\n",
    "\n",
    "\n",
    "$$X \\;\\;\\sim\\;\\; \\text{logistic}(\\mu, s) $$\n",
    "$$P[ X \\le x ] \\;\\;=\\;\\; \\text{sigmoid}( \\frac{x-\\mu}{s} )  \\;\\;=\\;\\; \\sigma(\\frac{x-\\mu}{s})$$\n",
    "    \n",
    "\n",
    "<br/>\n",
    "<br/>\n",
    "\n",
    "\n",
    "#### Normal/Mid Case { Current value of data point x is somewhere in between the max and min of entire train_data }\n",
    "Probability of $X$ taking values in interval $\\;\\;[ x - \\epsilon \\;\\;,\\;\\; x + \\epsilon  ]$ where $\\epsilon \\gt 0$ is half of the bin width  \n",
    "\n",
    "<br>\n",
    "<br>\n",
    "\n",
    "<font size=\"3\">\n",
    "\\begin{align}\n",
    "P_{\\text{mid}} & = P[\\;\\;(x - \\epsilon)\\;\\;  \\le  \\;\\;X\\;\\;  \\le \\;\\;(x + \\epsilon)\\;\\; ] \\\\\n",
    "& = P[\\;\\;X\\;\\;\\le\\;\\;(x + \\epsilon)\\;\\;]\\;\\;  -  \\;\\;P[\\;\\;X\\;\\;\\le  \\;\\;(x - \\epsilon)\\;\\; ] \\\\                           \n",
    "& = \\sigma( \\frac{x + \\epsilon-\\mu}{s} ) - \\sigma(\\frac{x - \\epsilon-\\mu}{s} )\n",
    "\\end{align}\n",
    "</font>\n",
    "\n",
    "<br/>\n",
    "<br/>\n",
    "\n",
    "---\n",
    "---\n",
    "We are assuming there are N components in logistic mixture. If $\\mu_i, s_i$ are parameters of $i^{th}$ component, Probability of $X$ taking values in the interval $[ x - \\epsilon \\;\\;,\\;\\; x + \\epsilon  ]$ under $i_{th}$ mixture component is given by;\n",
    "<br>\n",
    "<br>\n",
    "<font size=\"3\">\n",
    "$$ P_{x}^{i} \\;=\\; P[\\;\\;(x - \\epsilon)\\;\\;  \\le  \\;\\;X\\;\\;  \\le \\;\\;(x + \\epsilon)\\;\\; ]_{i^{th}\\; \\text{mixture component}} \\;=\\; \\sigma( \\frac{x + \\epsilon - \\mu_i}{s_i}) \\;\\;-\\;\\; \\sigma( \\frac{x - \\epsilon - \\mu_i}{s_i})$$\n",
    "</font>\n",
    "<br>\n",
    "<br>\n",
    "\n",
    "Collectively, N mixture components would assign following probability to interval/bin $[ x - \\epsilon \\;\\;,\\;\\; x + \\epsilon  ]$ ; \n",
    "<br>\n",
    "<br>\n",
    "<font size=\"3\">\n",
    "$$ P_x \\;=\\; P[\\;\\;(x - \\epsilon)\\;\\;  \\le  \\;\\;X\\;\\;  \\le \\;\\;(x + \\epsilon)\\;\\; ]_{\\text{all mixture components}} \\;=\\; \\sum_{i=1}^{N} w_{i}P_{x}^{i} $$\n",
    "</font>    \n",
    "<center>where N is the total number of mixture components and $w_i$ is the weight of $i^{th}$ mixture component $(w_i\\ge0~ \\forall~i ~~ \\text{and}~~\\sum_{i=1}^{N} w_i = 1 )$ </center>\n",
    "    \n",
    "\n",
    "<br>\n",
    "<br>\n",
    "<font size=\"5\">    \n",
    "$$ loss \\;=\\; - \\sum_{k=1}^{K} log( P_{x_k} ) $$\n",
    "</font>    \n",
    "<center>where K is the total number of data samples and $log$ is natural-logarithm</center>\n",
    "    \n",
    "<br>\n",
    "<br>  \n",
    "    \n",
    "---\n",
    "---\n",
    "\n",
    "### Numerically Stable Log-Probability    \n",
    "    \n",
    "<font size=\"5\">   \n",
    "\\begin{align*}\n",
    "\tP_x & = \\sum_{i=1}^{N} w_{i}P_{x}^{i} \\\\\n",
    "\t\t& = \\sum_{i=1}^{N} \\; e^{ log\\{\\;w_{i}\\;.\\;P_{x}^{i}\\;\\} }  \\\\\n",
    "\t    & = \\sum_{i=1}^{N} \\; e^{ log\\{\\;w_{i}\\;\\}\\;+\\;log\\{\\;P_{x}^{i}\\;\\} }  \\\\\n",
    "\t\t& = \\sum_{i=1}^{N} \\; e^{\\alpha_i}\\\\\\\\\n",
    "log(P_x) & = log(\\;\\sum_{i=1}^{N} \\; e^{\\alpha_i}\\;)\\\\\n",
    "         & = log(\\;e^{\\alpha_1}+e^{\\alpha_2}+\\ldots+e^{\\alpha_N}\\;)\\\\\n",
    "         & = \\text{log sum exponent}\\;( \\alpha_1 , \\alpha_2, \\ldots, \\alpha_N)\\\\\n",
    "         & = \\text{LSE}\\;( \\alpha_1 , \\alpha_2, \\ldots, \\alpha_N)\\\\\\\\\\\\\\\\\n",
    "    loss & = - \\sum_{k=1}^{K} log( P_{x_{k}} ) \n",
    "\\end{align*}   \n",
    "</font>    \n",
    "<center>where K is the total number of data samples and $log$ is natural-logarithm</center>   \n",
    "    \n",
    "---\n",
    "---\n",
    "    \n",
    "#### Approximation of Normal/Mid Case\n",
    "\n",
    "To handle extreme case when 'prob_mid_case' << 1e-5 <br/>\n",
    "\n",
    "This scenario can happen when network provides mean $\\mu$ that is way off data point $x$  <br/>\n",
    "e.g network outputs $\\mu$=1000  ans s=1 but $max$(train_data) = 5   and    $min$(train_data) = -5 <br/>\n",
    "\n",
    "Under these distribution parameters ($\\mu$=1000, s=1), extremely low probability would be assigned to interval/bin $[ x - \\epsilon \\;\\;,\\;\\; x + \\epsilon  ]$. <br/>\n",
    "When we take log of this extremely low probability, NaNs or -Infinity will occur. <br/>\n",
    "\n",
    "To solve this problem, we can approximate the integral (area under the PDF) by taking the centered PDF of <br/>\n",
    "the logistic distribution and multiply it by one bin-width interval on the support of train_data. <br/>\n",
    "\n",
    "<br>\n",
    "<br/>\n",
    "\n",
    "<font size=\"3\">\n",
    "\\begin{align}\n",
    "f(x)         & = \\frac{ e^{-(x-\\mu)/s} }{ s(1 + e^{-(x-\\mu)/s} )^2 } \\\\\n",
    "log\\{f(x)\\}  & = -(x-\\mu)/s - log(s) - log\\{ \\;(1 + e^{-(x-\\mu)/s} )^2\\; \\} \\\\\n",
    "log\\{f(x)\\}  & = -(x-\\mu)/s - log(s) - 2log\\{ ( 1 + e^{-(x-\\mu)/s} ) \\} \\\\\n",
    "log\\{f(x)\\}  & = -(x-\\mu)/s - log(s) - 2softplus\\{ -(x-\\mu)/s \\} \n",
    "\\end{align}\n",
    "</font>  \n",
    "\n",
    "<br/>\n",
    "\n",
    "approximate area under one-bin wide PDF curve =  $ f(x) \\times \\text{binWidth} $\n",
    "\n",
    "$\\large log\\{f(x) \\times \\text{binWidth} \\} = log\\{f(x)\\} + log\\{ \\text{binWidth} \\} $   \n",
    "    \n",
    "---\n",
    "---\n",
    "    \n",
    "<img src= \"https://www.dropbox.com/s/380sjwt0edq6gcj/mol_pdfs_binareas_3d.png?raw=1\" />  \n",
    "    \n",
    "    \n",
    "\n",
    "---    \n",
    "---\n",
    "\n",
    "<h4><font color='red'>Note: We will not use {Right edge and Left edge Cases}</font></h4>\n",
    "\n",
    "---\n",
    "\n",
    "#### Right edge case { Current value of data point x is near the max of entire train_data}\n",
    "Probability of value $x$ lying in interval $\\;\\;[ x - \\epsilon \\;\\;,\\;\\; +\\infty  )$ where $\\epsilon \\gt 0$ is half of the bin width  <br/>\n",
    "\n",
    "$\\large\\;\\; P_{\\text{right_edge}} = P[\\;\\;(x - \\epsilon)\\;\\;  \\le  \\;\\;X\\;\\;  \\lt \\;\\; +\\infty \\;\\; ]$  <br/>\n",
    "\n",
    "$\\large =  P[\\;\\;X\\;\\;\\lt\\;\\;+\\infty\\;\\;]\\;\\;  -  \\;\\;P[\\;\\;X\\;\\;\\le  \\;\\;(x - \\epsilon)\\;\\; ]$ <br/>                             \n",
    "$\\large =  \\sigma( \\frac{+\\infty -\\mu}{s} ) - \\sigma(\\frac{x - \\epsilon-\\mu}{s} )$ <br/>\n",
    "\n",
    "$\\large =  1 - \\sigma(\\frac{x - \\epsilon-\\mu}{s} )$\n",
    "\n",
    "<br/>\n",
    "<br/>\n",
    "    \n",
    "$\\large\\;\\; log\\{P_{\\text{right_edge}}\\} $  \n",
    "\n",
    "$\\large\\;\\; =  log\\{1 - \\sigma(\\frac{x - \\epsilon-\\mu}{s}) \\} $ <br/>\n",
    "\n",
    "$\\large\\;\\; = log\\{1 - \\frac{e^{\\frac{x - \\epsilon-\\mu}{s}}}{1+e^{\\frac{x - \\epsilon-\\mu}{s}}} \\} $ <br/>\n",
    "\n",
    "$\\large\\;\\; = log\\{\\frac{1}{1+e^{\\frac{x - \\epsilon-\\mu}{s}}} \\} $ <br/>\n",
    "\n",
    "$\\large\\;\\; = -log\\{1+e^{\\frac{x - \\epsilon-\\mu}{s}} \\} $ <br/>\n",
    "\n",
    "$\\large\\;\\; = -softplus\\{\\frac{x - \\epsilon-\\mu}{s} \\} $ \n",
    " \n",
    " \n",
    "<br/>\n",
    "<br/>\n",
    "\n",
    "---\n",
    "\n",
    "\n",
    "\n",
    "#### Left edge case { Current value of data point x is near the  min of entire train_data}\n",
    "Probability of value $x$ lying in interval $\\;\\;( -\\infty\\;\\;,\\;\\;  x + \\epsilon  ]$ where $\\epsilon \\gt 0$ is half of the bin width  <br/>\n",
    "\n",
    "$\\large\\;\\; P_{\\text{left_edge}} = P[\\;\\;-\\infty\\;\\;  \\lt  \\;\\;X\\;\\;  \\le \\;\\; (x + \\epsilon) \\;\\; ]$  <br/>\n",
    "\n",
    "$\\large =  \\;\\;P[\\;\\;X\\;\\;\\le  \\;\\;(x + \\epsilon)\\;\\; ] - P[\\;\\;X\\;\\;\\lt\\;\\;-\\infty\\;\\;]\\;\\;  $ <br/>                             \n",
    "$\\large =  \\sigma(\\frac{x + \\epsilon-\\mu}{s}) - 0 $ <br/>\n",
    "\n",
    "$\\large =  \\sigma(\\frac{x + \\epsilon-\\mu}{s}) $\n",
    "\n",
    "<br/>\n",
    "<br/>\n",
    "    \n",
    "$\\large\\;\\; log\\{P_{\\text{left_edge}}\\} $  \n",
    "\n",
    "$\\large\\;\\; =  log\\{\\sigma(\\frac{x + \\epsilon-\\mu}{s}) \\} $ <br/>\n",
    "\n",
    "$\\large\\;\\; = log\\{\\frac{e^{\\frac{x + \\epsilon-\\mu}{s}}}{1+e^{\\frac{x + \\epsilon-\\mu}{s}}} \\} $ <br/>\n",
    "\n",
    "$\\large\\;\\; = log\\{e^{\\frac{x + \\epsilon-\\mu}{s}}\\} - log\\{1+e^{\\frac{x + \\epsilon-\\mu}{s}} \\} $ <br/>\n",
    "\n",
    "$\\large\\;\\; = \\frac{x + \\epsilon-\\mu}{s}-log\\{1+e^{\\frac{x + \\epsilon-\\mu}{s}} \\} $ <br/>\n",
    "\n",
    "$\\large\\;\\; = \\frac{x + \\epsilon-\\mu}{s} -softplus\\{\\frac{x + \\epsilon-\\mu}{s} \\} $ \n",
    "  \n",
    " \n",
    "<br/>\n",
    "<br/>    "
   ]
  },
  {
   "cell_type": "markdown",
   "metadata": {},
   "source": [
    "### Structure of Bayesian Network"
   ]
  },
  {
   "cell_type": "code",
   "execution_count": 2,
   "metadata": {},
   "outputs": [],
   "source": [
    "BN = {}\n",
    "BN['A']=[]\n",
    "BN['B']=['A']\n",
    "BN['C']=['A','B']\n",
    "BN['D']=['A','B','C']"
   ]
  },
  {
   "cell_type": "markdown",
   "metadata": {},
   "source": [
    "### Sizes of Hidden Layers in Neural Networks\n",
    "Each node will have its own neural network."
   ]
  },
  {
   "cell_type": "code",
   "execution_count": 3,
   "metadata": {},
   "outputs": [],
   "source": [
    "nets_layer_sizes = {'A': [28,28,28],\n",
    "                    'B': [28,28,28],\n",
    "                    'C': [28,28,28],\n",
    "                    'D': [28,28,28],\n",
    "                    }"
   ]
  },
  {
   "cell_type": "markdown",
   "metadata": {},
   "source": [
    "### Instantiate an Object of Class BayesNetDensityEstimator"
   ]
  },
  {
   "cell_type": "code",
   "execution_count": 4,
   "metadata": {},
   "outputs": [
    {
     "name": "stdout",
     "output_type": "stream",
     "text": [
      "Using Device= cpu \n",
      "Data Type= torch.float32\n"
     ]
    }
   ],
   "source": [
    "from bayes_net_density_estimator import BayesNetDensityEstimator"
   ]
  },
  {
   "cell_type": "code",
   "execution_count": 5,
   "metadata": {},
   "outputs": [],
   "source": [
    "bnde = BayesNetDensityEstimator(nets_hidden_layer_sizes=nets_layer_sizes, bayes_net_structure=BN)"
   ]
  },
  {
   "cell_type": "markdown",
   "metadata": {},
   "source": [
    "### Generate Train Data"
   ]
  },
  {
   "cell_type": "code",
   "execution_count": 6,
   "metadata": {},
   "outputs": [],
   "source": [
    "import generate_data_from_known_bayesnet\n",
    "importlib.reload(sys.modules['generate_data_from_known_bayesnet'])\n",
    "from generate_data_from_known_bayesnet import bayes_net_generate_samples\n"
   ]
  },
  {
   "cell_type": "code",
   "execution_count": 7,
   "metadata": {},
   "outputs": [],
   "source": [
    "data , dist_params, node_index = bayes_net_generate_samples(n_samples=10000, bayes_net_type='abcd' )"
   ]
  },
  {
   "cell_type": "code",
   "execution_count": 8,
   "metadata": {},
   "outputs": [],
   "source": [
    "data_df = pd.DataFrame( data,\n",
    "          columns=['A', 'B', 'C', 'D'])"
   ]
  },
  {
   "cell_type": "code",
   "execution_count": 9,
   "metadata": {},
   "outputs": [
    {
     "data": {
      "text/html": [
       "<div>\n",
       "<style scoped>\n",
       "    .dataframe tbody tr th:only-of-type {\n",
       "        vertical-align: middle;\n",
       "    }\n",
       "\n",
       "    .dataframe tbody tr th {\n",
       "        vertical-align: top;\n",
       "    }\n",
       "\n",
       "    .dataframe thead th {\n",
       "        text-align: right;\n",
       "    }\n",
       "</style>\n",
       "<table border=\"1\" class=\"dataframe\">\n",
       "  <thead>\n",
       "    <tr style=\"text-align: right;\">\n",
       "      <th></th>\n",
       "      <th>A</th>\n",
       "      <th>B</th>\n",
       "      <th>C</th>\n",
       "      <th>D</th>\n",
       "    </tr>\n",
       "  </thead>\n",
       "  <tbody>\n",
       "    <tr>\n",
       "      <td>0</td>\n",
       "      <td>10.455759</td>\n",
       "      <td>6.109176</td>\n",
       "      <td>37.722729</td>\n",
       "      <td>9.720745</td>\n",
       "    </tr>\n",
       "    <tr>\n",
       "      <td>1</td>\n",
       "      <td>10.409227</td>\n",
       "      <td>18.273962</td>\n",
       "      <td>3.406818</td>\n",
       "      <td>4.754632</td>\n",
       "    </tr>\n",
       "    <tr>\n",
       "      <td>2</td>\n",
       "      <td>-9.442691</td>\n",
       "      <td>-1.307151</td>\n",
       "      <td>-8.537236</td>\n",
       "      <td>21.342455</td>\n",
       "    </tr>\n",
       "    <tr>\n",
       "      <td>3</td>\n",
       "      <td>-9.421345</td>\n",
       "      <td>-0.819389</td>\n",
       "      <td>-23.024912</td>\n",
       "      <td>30.064802</td>\n",
       "    </tr>\n",
       "    <tr>\n",
       "      <td>4</td>\n",
       "      <td>8.346334</td>\n",
       "      <td>9.772987</td>\n",
       "      <td>32.051891</td>\n",
       "      <td>-24.740965</td>\n",
       "    </tr>\n",
       "    <tr>\n",
       "      <td>...</td>\n",
       "      <td>...</td>\n",
       "      <td>...</td>\n",
       "      <td>...</td>\n",
       "      <td>...</td>\n",
       "    </tr>\n",
       "    <tr>\n",
       "      <td>9995</td>\n",
       "      <td>10.732642</td>\n",
       "      <td>18.988897</td>\n",
       "      <td>27.712629</td>\n",
       "      <td>11.458890</td>\n",
       "    </tr>\n",
       "    <tr>\n",
       "      <td>9996</td>\n",
       "      <td>-10.152422</td>\n",
       "      <td>4.295259</td>\n",
       "      <td>-17.182024</td>\n",
       "      <td>4.094073</td>\n",
       "    </tr>\n",
       "    <tr>\n",
       "      <td>9997</td>\n",
       "      <td>9.519778</td>\n",
       "      <td>14.964192</td>\n",
       "      <td>-3.240290</td>\n",
       "      <td>35.173923</td>\n",
       "    </tr>\n",
       "    <tr>\n",
       "      <td>9998</td>\n",
       "      <td>-9.505121</td>\n",
       "      <td>-31.485470</td>\n",
       "      <td>-5.218318</td>\n",
       "      <td>23.160717</td>\n",
       "    </tr>\n",
       "    <tr>\n",
       "      <td>9999</td>\n",
       "      <td>10.051458</td>\n",
       "      <td>3.148642</td>\n",
       "      <td>28.393063</td>\n",
       "      <td>-20.635500</td>\n",
       "    </tr>\n",
       "  </tbody>\n",
       "</table>\n",
       "<p>10000 rows × 4 columns</p>\n",
       "</div>"
      ],
      "text/plain": [
       "              A          B          C          D\n",
       "0     10.455759   6.109176  37.722729   9.720745\n",
       "1     10.409227  18.273962   3.406818   4.754632\n",
       "2     -9.442691  -1.307151  -8.537236  21.342455\n",
       "3     -9.421345  -0.819389 -23.024912  30.064802\n",
       "4      8.346334   9.772987  32.051891 -24.740965\n",
       "...         ...        ...        ...        ...\n",
       "9995  10.732642  18.988897  27.712629  11.458890\n",
       "9996 -10.152422   4.295259 -17.182024   4.094073\n",
       "9997   9.519778  14.964192  -3.240290  35.173923\n",
       "9998  -9.505121 -31.485470  -5.218318  23.160717\n",
       "9999  10.051458   3.148642  28.393063 -20.635500\n",
       "\n",
       "[10000 rows x 4 columns]"
      ]
     },
     "execution_count": 9,
     "metadata": {},
     "output_type": "execute_result"
    }
   ],
   "source": [
    "data_df"
   ]
  },
  {
   "cell_type": "markdown",
   "metadata": {},
   "source": [
    "### Converting Continuous Data to Digitized Data Using Uniform Bin Intervals"
   ]
  },
  {
   "cell_type": "code",
   "execution_count": 10,
   "metadata": {},
   "outputs": [],
   "source": [
    "data_disc = np.zeros((data.shape) , dtype=np.int64)\n",
    "\n",
    "data_disc[:,0] = np.digitize( data[:,0], np.linspace(-60,60,500) )-1\n",
    "data_disc[:,1] = np.digitize( data[:,1], np.linspace(-60,60,500) )-1\n",
    "data_disc[:,2] = np.digitize( data[:,2], np.linspace(-60,60,500) )-1\n",
    "data_disc[:,3] = np.digitize( data[:,3], np.linspace(-60,60,500) )-1\n",
    "\n",
    "\n",
    "# DataFrame containing digitized \n",
    "data_disc_df = pd.DataFrame()\n",
    "data_disc_df['A'] = data_disc[:,0]\n",
    "data_disc_df['B'] = data_disc[:,1]\n",
    "data_disc_df['C'] = data_disc[:,2]\n",
    "data_disc_df['D'] = data_disc[:,3]"
   ]
  },
  {
   "cell_type": "markdown",
   "metadata": {},
   "source": [
    "### Learn Density Parameters"
   ]
  },
  {
   "cell_type": "code",
   "execution_count": 11,
   "metadata": {},
   "outputs": [
    {
     "name": "stdout",
     "output_type": "stream",
     "text": [
      "\n",
      "\n",
      "Learning Parameters of Probability Density Function of  'A' :\n",
      "\n",
      "-----------------------------------------------------------------\n",
      "-----------------------------------------------------------------\n",
      "\n",
      "\n",
      "\n",
      "\n",
      "Model/Neural Network :\n",
      " DenseNet(\n",
      "  (net): Sequential(\n",
      "    (0): Linear(in_features=1, out_features=28, bias=True)\n",
      "    (1): ReLU()\n",
      "    (2): Linear(in_features=28, out_features=28, bias=True)\n",
      "    (3): ReLU()\n",
      "    (4): Linear(in_features=28, out_features=28, bias=True)\n",
      "    (5): ReLU()\n",
      "    (6): Linear(in_features=28, out_features=15, bias=True)\n",
      "  )\n",
      ")\n",
      "\n",
      "No. of Params :   2115\n",
      "\n",
      "Optimizer     :\n",
      " RMSprop (\n",
      "Parameter Group 0\n",
      "    alpha: 0.99\n",
      "    centered: False\n",
      "    eps: 1e-08\n",
      "    lr: 0.01\n",
      "    momentum: 0\n",
      "    weight_decay: 0\n",
      ")\n",
      "\n",
      "Loss Function :  <function logistic_mixture_loss at 0x000002A4E86EC318>\n",
      "Num_mixtures    :  5\n",
      "Num_Bins        :  500\n",
      "Batch Size      :  500\n",
      "Num_Epochs      :  3000\n",
      "Input  Column Indices :  []\n",
      "Target Column Indices :  [0]\n",
      "\n",
      "\n",
      "\n",
      "\n",
      "Training Started ...\n",
      "\n",
      "\n",
      "Epoch No.     100,     Loss = 2483.6587 \n",
      "Epoch No.     200,     Loss = 2479.8026 \n",
      "Epoch No.     300,     Loss = 2479.3599 \n",
      "Epoch No.     400,     Loss = 2478.8337 \n",
      "Epoch No.     500,     Loss = 2478.6721 \n",
      "Epoch No.     600,     Loss = 2478.3951 \n",
      "Epoch No.     700,     Loss = 2478.2137 \n",
      "Epoch No.     800,     Loss = 2477.9979 \n",
      "Epoch No.     900,     Loss = 2477.8043 \n",
      "Epoch No.    1000,     Loss = 2477.7063 \n",
      "Epoch No.    1100,     Loss = 2477.3640 \n",
      "Epoch No.    1200,     Loss = 2477.2950 \n",
      "Epoch No.    1300,     Loss = 2477.0198 \n",
      "Epoch No.    1400,     Loss = 2476.9792 \n",
      "Epoch No.    1500,     Loss = 2476.9339 \n",
      "Epoch No.    1600,     Loss = 2476.8732 \n",
      "Epoch No.    1700,     Loss = 2476.5789 \n",
      "Epoch No.    1800,     Loss = 2476.5754 \n",
      "Epoch No.    1900,     Loss = 2476.5526 \n",
      "Epoch No.    2000,     Loss = 2476.5300 \n",
      "Epoch No.    2100,     Loss = 2476.5068 \n",
      "Epoch No.    2200,     Loss = 2476.4824 \n",
      "Epoch No.    2300,     Loss = 2476.4536 \n",
      "Epoch No.    2400,     Loss = 2476.4170 \n",
      "Epoch No.    2500,     Loss = 2476.3567 \n",
      "Epoch No.    2600,     Loss = 2476.1359 \n",
      "Epoch No.    2700,     Loss = 2476.1226 \n",
      "Epoch No.    2800,     Loss = 2476.1095 \n",
      "Epoch No.    2900,     Loss = 2476.0966 \n",
      "Epoch No.    3000,     Loss = 2476.0846 \n",
      "\n",
      "\n",
      "Learning Parameters of Probability Density Function of  'B' | ('A',) :\n",
      "\n",
      "-----------------------------------------------------------------\n",
      "-----------------------------------------------------------------\n",
      "\n",
      "\n",
      "\n",
      "\n",
      "Model/Neural Network :\n",
      " DenseNet(\n",
      "  (net): Sequential(\n",
      "    (0): Linear(in_features=1, out_features=28, bias=True)\n",
      "    (1): ReLU()\n",
      "    (2): Linear(in_features=28, out_features=28, bias=True)\n",
      "    (3): ReLU()\n",
      "    (4): Linear(in_features=28, out_features=28, bias=True)\n",
      "    (5): ReLU()\n",
      "    (6): Linear(in_features=28, out_features=15, bias=True)\n",
      "  )\n",
      ")\n",
      "\n",
      "No. of Params :   2115\n",
      "\n",
      "Optimizer     :\n",
      " RMSprop (\n",
      "Parameter Group 0\n",
      "    alpha: 0.99\n",
      "    centered: False\n",
      "    eps: 1e-08\n",
      "    lr: 0.01\n",
      "    momentum: 0\n",
      "    weight_decay: 0\n",
      ")\n",
      "\n",
      "Loss Function :  <function logistic_mixture_loss at 0x000002A4E86EC318>\n",
      "Num_mixtures    :  5\n",
      "Num_Bins        :  500\n",
      "Batch Size      :  500\n",
      "Num_Epochs      :  3000\n",
      "Input  Column Indices :  [0]\n",
      "Target Column Indices :  [1]\n",
      "\n",
      "\n",
      "\n",
      "\n",
      "Training Started ...\n",
      "\n",
      "\n",
      "Epoch No.     100,     Loss = 2495.3431 \n",
      "Epoch No.     200,     Loss = 2492.8531 \n",
      "Epoch No.     300,     Loss = 2491.0244 \n",
      "Epoch No.     400,     Loss = 2491.2451 \n",
      "Epoch No.     500,     Loss = 2491.3502 \n",
      "Epoch No.     600,     Loss = 2490.1359 \n",
      "Epoch No.     700,     Loss = 2489.7911 \n",
      "Epoch No.     800,     Loss = 2489.8291 \n",
      "Epoch No.     900,     Loss = 2489.8959 \n",
      "Epoch No.    1000,     Loss = 2490.2925 \n",
      "Epoch No.    1100,     Loss = 2490.4242 \n",
      "Epoch No.    1200,     Loss = 2489.5167 \n",
      "Epoch No.    1300,     Loss = 2488.7171 \n",
      "Epoch No.    1400,     Loss = 2488.7898 \n",
      "Epoch No.    1500,     Loss = 2488.9049 \n",
      "Epoch No.    1600,     Loss = 2488.7071 \n",
      "Epoch No.    1700,     Loss = 2488.5801 \n",
      "Epoch No.    1800,     Loss = 2487.9704 \n",
      "Epoch No.    1900,     Loss = 2487.8193 \n",
      "Epoch No.    2000,     Loss = 2488.3961 \n",
      "Epoch No.    2100,     Loss = 2488.2870 \n",
      "Epoch No.    2200,     Loss = 2490.2367 \n",
      "Epoch No.    2300,     Loss = 2488.9934 \n",
      "Epoch No.    2400,     Loss = 2488.5969 \n",
      "Epoch No.    2500,     Loss = 2488.3302 \n",
      "Epoch No.    2600,     Loss = 2488.3365 \n",
      "Epoch No.    2700,     Loss = 2488.4041 \n",
      "Epoch No.    2800,     Loss = 2487.8029 \n",
      "Epoch No.    2900,     Loss = 2487.8956 \n",
      "Epoch No.    3000,     Loss = 2487.6248 \n",
      "\n",
      "\n",
      "Learning Parameters of Probability Density Function of  'C' | ('A', 'B') :\n",
      "\n",
      "-----------------------------------------------------------------\n",
      "-----------------------------------------------------------------\n",
      "\n",
      "\n",
      "\n",
      "\n",
      "Model/Neural Network :\n",
      " DenseNet(\n",
      "  (net): Sequential(\n",
      "    (0): Linear(in_features=2, out_features=28, bias=True)\n",
      "    (1): ReLU()\n",
      "    (2): Linear(in_features=28, out_features=28, bias=True)\n",
      "    (3): ReLU()\n",
      "    (4): Linear(in_features=28, out_features=28, bias=True)\n",
      "    (5): ReLU()\n",
      "    (6): Linear(in_features=28, out_features=15, bias=True)\n",
      "  )\n",
      ")\n",
      "\n",
      "No. of Params :   2143\n",
      "\n",
      "Optimizer     :\n",
      " RMSprop (\n",
      "Parameter Group 0\n",
      "    alpha: 0.99\n",
      "    centered: False\n",
      "    eps: 1e-08\n",
      "    lr: 0.01\n",
      "    momentum: 0\n",
      "    weight_decay: 0\n",
      ")\n",
      "\n",
      "Loss Function :  <function logistic_mixture_loss at 0x000002A4E86EC318>\n",
      "Num_mixtures    :  5\n",
      "Num_Bins        :  500\n",
      "Batch Size      :  500\n",
      "Num_Epochs      :  3000\n",
      "Input  Column Indices :  [0, 1]\n",
      "Target Column Indices :  [2]\n",
      "\n",
      "\n",
      "\n",
      "\n",
      "Training Started ...\n",
      "\n",
      "\n",
      "Epoch No.     100,     Loss = 2449.6843 \n",
      "Epoch No.     200,     Loss = 2442.8745 \n",
      "Epoch No.     300,     Loss = 2440.4508 \n",
      "Epoch No.     400,     Loss = 2438.4573 \n",
      "Epoch No.     500,     Loss = 2438.5159 \n",
      "Epoch No.     600,     Loss = 2436.1429 \n",
      "Epoch No.     700,     Loss = 2435.4262 \n",
      "Epoch No.     800,     Loss = 2440.9449 \n",
      "Epoch No.     900,     Loss = 2435.3487 \n",
      "Epoch No.    1000,     Loss = 2435.3976 \n",
      "Epoch No.    1100,     Loss = 2433.8197 \n",
      "Epoch No.    1200,     Loss = 2434.5416 \n",
      "Epoch No.    1300,     Loss = 2431.4350 \n",
      "Epoch No.    1400,     Loss = 2432.6008 \n",
      "Epoch No.    1500,     Loss = 2433.6035 \n",
      "Epoch No.    1600,     Loss = 2434.3262 \n",
      "Epoch No.    1700,     Loss = 2434.3502 \n",
      "Epoch No.    1800,     Loss = 2431.3594 \n",
      "Epoch No.    1900,     Loss = 2432.6054 \n",
      "Epoch No.    2000,     Loss = 2432.6470 \n",
      "Epoch No.    2100,     Loss = 2432.9791 \n",
      "Epoch No.    2200,     Loss = 2431.1925 \n",
      "Epoch No.    2300,     Loss = 2432.0859 \n",
      "Epoch No.    2400,     Loss = 2429.6457 \n",
      "Epoch No.    2500,     Loss = 2430.9239 \n",
      "Epoch No.    2600,     Loss = 2429.2340 \n",
      "Epoch No.    2700,     Loss = 2433.3255 \n",
      "Epoch No.    2800,     Loss = 2430.5367 \n",
      "Epoch No.    2900,     Loss = 2428.3532 \n",
      "Epoch No.    3000,     Loss = 2429.1204 \n",
      "\n",
      "\n",
      "Learning Parameters of Probability Density Function of  'D' | ('A', 'B', 'C') :\n",
      "\n",
      "-----------------------------------------------------------------\n",
      "-----------------------------------------------------------------\n",
      "\n",
      "\n",
      "\n",
      "\n",
      "Model/Neural Network :\n",
      " DenseNet(\n",
      "  (net): Sequential(\n",
      "    (0): Linear(in_features=3, out_features=28, bias=True)\n",
      "    (1): ReLU()\n",
      "    (2): Linear(in_features=28, out_features=28, bias=True)\n",
      "    (3): ReLU()\n",
      "    (4): Linear(in_features=28, out_features=28, bias=True)\n",
      "    (5): ReLU()\n",
      "    (6): Linear(in_features=28, out_features=15, bias=True)\n",
      "  )\n",
      ")\n",
      "\n",
      "No. of Params :   2171\n",
      "\n",
      "Optimizer     :\n",
      " RMSprop (\n",
      "Parameter Group 0\n",
      "    alpha: 0.99\n",
      "    centered: False\n",
      "    eps: 1e-08\n",
      "    lr: 0.01\n",
      "    momentum: 0\n",
      "    weight_decay: 0\n",
      ")\n",
      "\n",
      "Loss Function :  <function logistic_mixture_loss at 0x000002A4E86EC318>\n",
      "Num_mixtures    :  5\n",
      "Num_Bins        :  500\n",
      "Batch Size      :  500\n",
      "Num_Epochs      :  3000\n",
      "Input  Column Indices :  [0, 1, 2]\n",
      "Target Column Indices :  [3]\n",
      "\n",
      "\n",
      "\n",
      "\n",
      "Training Started ...\n",
      "\n",
      "\n",
      "Epoch No.     100,     Loss = 2642.0586 \n",
      "Epoch No.     200,     Loss = 2635.4603 \n",
      "Epoch No.     300,     Loss = 2636.5805 \n",
      "Epoch No.     400,     Loss = 2630.9832 \n",
      "Epoch No.     500,     Loss = 2631.8202 \n",
      "Epoch No.     600,     Loss = 2627.7772 \n",
      "Epoch No.     700,     Loss = 2627.2606 \n",
      "Epoch No.     800,     Loss = 2626.7652 \n",
      "Epoch No.     900,     Loss = 2626.8790 \n",
      "Epoch No.    1000,     Loss = 2628.1782 \n",
      "Epoch No.    1100,     Loss = 2628.9204 \n",
      "Epoch No.    1200,     Loss = 2625.1132 \n",
      "Epoch No.    1300,     Loss = 2631.3733 \n",
      "Epoch No.    1400,     Loss = 2626.9873 \n",
      "Epoch No.    1500,     Loss = 2624.5802 \n",
      "Epoch No.    1600,     Loss = 2625.1676 \n",
      "Epoch No.    1700,     Loss = 2627.5114 \n",
      "Epoch No.    1800,     Loss = 2623.9513 \n",
      "Epoch No.    1900,     Loss = 2623.6348 \n",
      "Epoch No.    2000,     Loss = 2620.1993 \n",
      "Epoch No.    2100,     Loss = 2631.7039 \n",
      "Epoch No.    2200,     Loss = 2629.1736 \n",
      "Epoch No.    2300,     Loss = 2623.6674 \n",
      "Epoch No.    2400,     Loss = 2627.4261 \n",
      "Epoch No.    2500,     Loss = 2628.4272 \n",
      "Epoch No.    2600,     Loss = 2624.7186 \n",
      "Epoch No.    2700,     Loss = 2625.3693 \n",
      "Epoch No.    2800,     Loss = 2623.1549 \n",
      "Epoch No.    2900,     Loss = 2621.5170 \n",
      "Epoch No.    3000,     Loss = 2625.6979 \n"
     ]
    }
   ],
   "source": [
    "bnde.learn_prob_density_params( train_data=data_df, n_epochs=3000 )"
   ]
  },
  {
   "cell_type": "markdown",
   "metadata": {},
   "source": [
    "### Draw Samples from Learned PDF Parameters"
   ]
  },
  {
   "cell_type": "code",
   "execution_count": 12,
   "metadata": {},
   "outputs": [],
   "source": [
    "df = bnde.draw_samples(n_samples=5000)"
   ]
  },
  {
   "cell_type": "code",
   "execution_count": 13,
   "metadata": {},
   "outputs": [
    {
     "data": {
      "text/html": [
       "<div>\n",
       "<style scoped>\n",
       "    .dataframe tbody tr th:only-of-type {\n",
       "        vertical-align: middle;\n",
       "    }\n",
       "\n",
       "    .dataframe tbody tr th {\n",
       "        vertical-align: top;\n",
       "    }\n",
       "\n",
       "    .dataframe thead th {\n",
       "        text-align: right;\n",
       "    }\n",
       "</style>\n",
       "<table border=\"1\" class=\"dataframe\">\n",
       "  <thead>\n",
       "    <tr style=\"text-align: right;\">\n",
       "      <th></th>\n",
       "      <th>A</th>\n",
       "      <th>B</th>\n",
       "      <th>C</th>\n",
       "      <th>D</th>\n",
       "    </tr>\n",
       "  </thead>\n",
       "  <tbody>\n",
       "    <tr>\n",
       "      <td>0</td>\n",
       "      <td>0.368333</td>\n",
       "      <td>-10.223977</td>\n",
       "      <td>0.125234</td>\n",
       "      <td>-8.321636</td>\n",
       "    </tr>\n",
       "    <tr>\n",
       "      <td>1</td>\n",
       "      <td>-9.159979</td>\n",
       "      <td>0.712661</td>\n",
       "      <td>-18.524308</td>\n",
       "      <td>19.014131</td>\n",
       "    </tr>\n",
       "    <tr>\n",
       "      <td>2</td>\n",
       "      <td>9.918314</td>\n",
       "      <td>-1.972733</td>\n",
       "      <td>23.212367</td>\n",
       "      <td>1.696451</td>\n",
       "    </tr>\n",
       "    <tr>\n",
       "      <td>3</td>\n",
       "      <td>8.903410</td>\n",
       "      <td>21.098806</td>\n",
       "      <td>-5.436344</td>\n",
       "      <td>-2.138304</td>\n",
       "    </tr>\n",
       "    <tr>\n",
       "      <td>4</td>\n",
       "      <td>-9.762431</td>\n",
       "      <td>-37.185203</td>\n",
       "      <td>-14.436004</td>\n",
       "      <td>-13.855981</td>\n",
       "    </tr>\n",
       "    <tr>\n",
       "      <td>...</td>\n",
       "      <td>...</td>\n",
       "      <td>...</td>\n",
       "      <td>...</td>\n",
       "      <td>...</td>\n",
       "    </tr>\n",
       "    <tr>\n",
       "      <td>4995</td>\n",
       "      <td>0.299237</td>\n",
       "      <td>-9.758486</td>\n",
       "      <td>12.424624</td>\n",
       "      <td>6.554184</td>\n",
       "    </tr>\n",
       "    <tr>\n",
       "      <td>4996</td>\n",
       "      <td>0.010654</td>\n",
       "      <td>10.297782</td>\n",
       "      <td>9.774461</td>\n",
       "      <td>-13.006935</td>\n",
       "    </tr>\n",
       "    <tr>\n",
       "      <td>4997</td>\n",
       "      <td>0.062240</td>\n",
       "      <td>0.713623</td>\n",
       "      <td>9.182146</td>\n",
       "      <td>1.044080</td>\n",
       "    </tr>\n",
       "    <tr>\n",
       "      <td>4998</td>\n",
       "      <td>-11.205616</td>\n",
       "      <td>5.896515</td>\n",
       "      <td>5.934133</td>\n",
       "      <td>4.982515</td>\n",
       "    </tr>\n",
       "    <tr>\n",
       "      <td>4999</td>\n",
       "      <td>11.074550</td>\n",
       "      <td>13.768773</td>\n",
       "      <td>37.028924</td>\n",
       "      <td>-22.793030</td>\n",
       "    </tr>\n",
       "  </tbody>\n",
       "</table>\n",
       "<p>5000 rows × 4 columns</p>\n",
       "</div>"
      ],
      "text/plain": [
       "              A          B          C          D\n",
       "0      0.368333 -10.223977   0.125234  -8.321636\n",
       "1     -9.159979   0.712661 -18.524308  19.014131\n",
       "2      9.918314  -1.972733  23.212367   1.696451\n",
       "3      8.903410  21.098806  -5.436344  -2.138304\n",
       "4     -9.762431 -37.185203 -14.436004 -13.855981\n",
       "...         ...        ...        ...        ...\n",
       "4995   0.299237  -9.758486  12.424624   6.554184\n",
       "4996   0.010654  10.297782   9.774461 -13.006935\n",
       "4997   0.062240   0.713623   9.182146   1.044080\n",
       "4998 -11.205616   5.896515   5.934133   4.982515\n",
       "4999  11.074550  13.768773  37.028924 -22.793030\n",
       "\n",
       "[5000 rows x 4 columns]"
      ]
     },
     "execution_count": 13,
     "metadata": {},
     "output_type": "execute_result"
    }
   ],
   "source": [
    "df"
   ]
  },
  {
   "cell_type": "markdown",
   "metadata": {},
   "source": [
    "### Test Data"
   ]
  },
  {
   "cell_type": "code",
   "execution_count": 21,
   "metadata": {},
   "outputs": [],
   "source": [
    "test_data , test_dist_params, node_index = bayes_net_generate_samples(n_samples=10000, bayes_net_type='abcd' )\n",
    "test_data_df = pd.DataFrame( test_data, columns=['A', 'B', 'C', 'D'])\n"
   ]
  },
  {
   "cell_type": "markdown",
   "metadata": {},
   "source": [
    "### Get Estimated Density Parameters Using Test Data"
   ]
  },
  {
   "cell_type": "code",
   "execution_count": 22,
   "metadata": {},
   "outputs": [],
   "source": [
    "# take a batch from test data\n",
    "\n",
    "num_examples=10\n",
    "rand_indices = np.random.choice(test_data_df.shape[0] , num_examples)\n",
    "test_data_df_batch = test_data_df.iloc[rand_indices]\n",
    "\n",
    "\n",
    "test_true_dist_params = test_dist_params[rand_indices]\n",
    "\n",
    "test_est_dist_params = bnde.get_prob_density_params( test_data=test_data_df_batch )"
   ]
  },
  {
   "cell_type": "markdown",
   "metadata": {},
   "source": [
    "### Plot True and Predicted PDFs"
   ]
  },
  {
   "cell_type": "code",
   "execution_count": 16,
   "metadata": {},
   "outputs": [],
   "source": [
    "import ipywidgets as widgets\n",
    "from ipywidgets import interact, interactive, fixed, interact_manual"
   ]
  },
  {
   "cell_type": "code",
   "execution_count": 39,
   "metadata": {},
   "outputs": [],
   "source": [
    "def plot_true_predicted_pdf(i, node, fig=True):\n",
    "    \n",
    "    # if root node\n",
    "    if node in bnde.bayes_net.all_root_nodes:\n",
    "        support , pdf_true = get_mix_logistic_pdf(param_matrix=test_true_dist_params[i,node_index[node]] )\n",
    "        _ , pdf_est  = get_mix_logistic_pdf(param_matrix=test_est_dist_params[node])\n",
    "        title= '$f('+node+')$'\n",
    "    \n",
    "    # if child node\n",
    "    else:\n",
    "        support , pdf_true = get_mix_logistic_pdf(param_matrix=test_true_dist_params[i,node_index[node]] )\n",
    "        _ , pdf_est  = get_mix_logistic_pdf(param_matrix=test_est_dist_params[node][i])\n",
    "\n",
    "        title= '$f('+node+'~\\\\vert~('\n",
    "        parents_vals = ''\n",
    "        for pa in bnde.bayes_net.structure[node]:\n",
    "            parents_vals += pa+'='+pa.lower()+', '\n",
    "        title=title+parents_vals[:-2]+'))$'\n",
    "\n",
    "        \n",
    "    if fig==True:    \n",
    "        plt.figure(figsize=(10,5))\n",
    "        plt.plot( support, pdf_true, linewidth=3, linestyle='--', label='Actual' )\n",
    "        plt.plot( support, pdf_est , linewidth=3, label='Estimated' )\n",
    "        plt.xlabel(r\"$%s$\"%node , fontsize=18)\n",
    "        plt.title(title , fontsize=18)\n",
    "        plt.legend(fontsize=20)\n",
    "        plt.show()\n",
    "    \n",
    "    return pdf_true, pdf_est, support"
   ]
  },
  {
   "cell_type": "code",
   "execution_count": 41,
   "metadata": {},
   "outputs": [
    {
     "data": {
      "application/vnd.jupyter.widget-view+json": {
       "model_id": "4689c9b701d3412e979236d3fe4ae574",
       "version_major": 2,
       "version_minor": 0
      },
      "text/plain": [
       "interactive(children=(IntSlider(value=24, description='i', max=49), Dropdown(description='node', options=('A',…"
      ]
     },
     "metadata": {},
     "output_type": "display_data"
    }
   ],
   "source": [
    "interactive(plot_true_predicted_pdf, node=['A','B','C','D'],i=(0,num_examples-1,1))"
   ]
  },
  {
   "cell_type": "markdown",
   "metadata": {},
   "source": [
    "### Save Figure of True and Preidcted PDF"
   ]
  },
  {
   "cell_type": "code",
   "execution_count": 48,
   "metadata": {},
   "outputs": [
    {
     "data": {
      "image/png": "[encoded data removed]",
      "text/plain": [
       "<Figure size 360x216 with 1 Axes>"
      ]
     },
     "metadata": {
      "needs_background": "light"
     },
     "output_type": "display_data"
    }
   ],
   "source": [
    "node='D'\n",
    "i=24\n",
    "\n",
    "\n",
    "pdf_true, pdf_est, support = plot_true_predicted_pdf(i, node, fig=False)\n",
    "\n",
    "if node=='A':\n",
    "    plt.figure(figsize=(5,3))\n",
    "    plt.plot( support[130:400], pdf_true[130:400], linewidth=4, label='Actual' )\n",
    "    plt.plot( support[130:400], pdf_est[130:400] , linewidth=3, linestyle='--', label='Estimated' )\n",
    "    plt.xlabel(r\"$X_1$\" , fontsize=18)\n",
    "    plt.title(r\"$f(X_1)$\" , fontsize=18)\n",
    "    plt.legend(fontsize=15)\n",
    "    plt.savefig(\"fx1.pdf\", dpi=300, bbox_inches='tight')\n",
    "    plt.show()\n",
    "\n",
    "elif node=='B':\n",
    "    plt.figure(figsize=(5,3))\n",
    "    plt.plot( support[130:490], pdf_true[130:490], linewidth=4, label='Actual' )\n",
    "    plt.plot( support[130:490], pdf_est[130:490] , linewidth=3, linestyle='--', label='Estimated' )\n",
    "    plt.xlabel(r\"$X_2$\" , fontsize=18)\n",
    "    plt.title(r\"$f(X_2~|~(X_1=x_1))$\" , fontsize=18)\n",
    "    plt.legend(fontsize=15)\n",
    "    plt.savefig(\"fx2.pdf\", dpi=300, bbox_inches='tight')\n",
    "    plt.show()\n",
    "\n",
    "\n",
    "elif node=='C':\n",
    "    plt.figure(figsize=(5,3))\n",
    "    plt.plot( support[0:400], pdf_true[0:400], linewidth=4, label='Actual' )\n",
    "    plt.plot( support[0:400], pdf_est[0:400] , linewidth=3, linestyle='--', label='Estimated' )\n",
    "    plt.xlabel(r\"$X_3$\" , fontsize=18)\n",
    "    plt.title(r\"$f(X_3~|~(X_1=x_1,X_2=x_2))$\" , fontsize=18)\n",
    "    plt.legend(fontsize=15)\n",
    "    plt.savefig(\"fx3.pdf\", dpi=300, bbox_inches='tight')\n",
    "    plt.show()\n",
    "\n",
    "elif node=='D':\n",
    "    plt.figure(figsize=(5,3))\n",
    "    plt.plot( support[0:450], pdf_true[0:450], linewidth=4, label='Actual' )\n",
    "    plt.plot( support[0:450], pdf_est[0:450] , linewidth=3, linestyle='--', label='Estimated' )\n",
    "    plt.xlabel(r\"$X_4$\" , fontsize=18)\n",
    "    plt.title(r\"$f(X_4~|~(X_1=x_1,X_2=x_2,X_3=x_3))$\" , fontsize=18)\n",
    "    plt.legend(fontsize=15)\n",
    "    plt.savefig(\"fx4.pdf\", dpi=300, bbox_inches='tight')\n",
    "    plt.show()"
   ]
  },
  {
   "cell_type": "markdown",
   "metadata": {},
   "source": [
    "### Get Estimated Density Parameters of a specific Node (given its parents if any)"
   ]
  },
  {
   "cell_type": "code",
   "execution_count": 54,
   "metadata": {},
   "outputs": [],
   "source": [
    "node = 'C'\n",
    "node_parents_data = np.array([[[1,2]]])\n",
    "\n",
    "\n",
    "node_est_dist_params= bnde.get_node_pdf_params( node, node_parents_data )"
   ]
  },
  {
   "cell_type": "markdown",
   "metadata": {},
   "source": [
    "## Inference\n",
    "\n",
    "\n",
    "#### Query on Node B and C\n",
    "$$P[~(1 \\le~B~\\le 10) ~\\vert~ (-5 \\le~A~\\le 5)~]$$"
   ]
  },
  {
   "cell_type": "code",
   "execution_count": 55,
   "metadata": {},
   "outputs": [],
   "source": [
    "query=[ ['B', 1, 10]]\n",
    "evidence = [['A', -5,5]]"
   ]
  },
  {
   "cell_type": "code",
   "execution_count": 56,
   "metadata": {},
   "outputs": [
    {
     "name": "stdout",
     "output_type": "stream",
     "text": [
      "Description of Evidence:\n",
      "[\n",
      "(-5 =< A <= 5)\n",
      "]\n",
      "\n",
      "\n",
      "Description of Query:\n",
      "[\n",
      "(1 =< B <= 10)\n",
      "]\n",
      "\n",
      "\n",
      "Description of Query_Evidence_WithoutDeepestNode:\n",
      "[\n",
      "(-5 =< A <= 5)\n",
      "]\n",
      "\n",
      "\n",
      "Description of Evidence_WithoutDeepestNode:\n",
      "Evidence is empty. Returning un-conditional data.\n",
      "\n",
      "]\n",
      "\n",
      "\n"
     ]
    }
   ],
   "source": [
    "empirical_prob= get_conditional_prob_cont(data_df=data_df ,  query=query , evidence=evidence , verbose=True)\n",
    "monte_prob= cpquery_approx( query=query , evidence=evidence,  bnde=bnde, n_samples=3000, verbose=True  )"
   ]
  },
  {
   "cell_type": "code",
   "execution_count": 57,
   "metadata": {},
   "outputs": [
    {
     "name": "stdout",
     "output_type": "stream",
     "text": [
      "Empirical Probability  = 0.20942582144042482\n",
      "MonteCarlo Probability = 0.22306147413106003\n"
     ]
    }
   ],
   "source": [
    "print(\"Empirical Probability  =\", empirical_prob)\n",
    "print(\"MonteCarlo Probability =\", monte_prob)"
   ]
  },
  {
   "cell_type": "markdown",
   "metadata": {},
   "source": [
    "### Multiple Queries"
   ]
  },
  {
   "cell_type": "code",
   "execution_count": 23,
   "metadata": {},
   "outputs": [
    {
     "name": "stdout",
     "output_type": "stream",
     "text": [
      "\n",
      "\n",
      "Query:\n",
      " [['D', -20, 15]]\n",
      "\n",
      "Evidence:\n",
      " [['A', -10, 1]] \n",
      "\n",
      "Empirical Probability  = 68.04192685102586  %\n",
      "MonteCarlo Probability = 70.45279124068573  %\n",
      "Difference             = 2.41086 %\n",
      "\n",
      "\n",
      "\n",
      "\n",
      "\n",
      "\n",
      "Query:\n",
      " [['D', -20, 15]]\n",
      "\n",
      "Evidence:\n",
      " [['B', -15, 5]] \n",
      "\n",
      "Empirical Probability  = 74.71517089746152  %\n",
      "MonteCarlo Probability = 78.16207135478373  %\n",
      "Difference             = 3.44690 %\n",
      "\n",
      "\n",
      "\n",
      "\n",
      "\n",
      "\n",
      "Query:\n",
      " [['D', -20, 15]]\n",
      "\n",
      "Evidence:\n",
      " [['A', -15, 15], ['B', -15, 15]] \n",
      "\n",
      "Empirical Probability  = 76.9912641315519  %\n",
      "MonteCarlo Probability = 78.4338932917574  %\n",
      "Difference             = 1.44263 %\n",
      "\n",
      "\n",
      "\n",
      "\n",
      "\n",
      "\n",
      "Query:\n",
      " [['C', -15, 5]]\n",
      "\n",
      "Evidence:\n",
      " [['A', -10, 1]] \n",
      "\n",
      "Empirical Probability  = 56.801962533452276  %\n",
      "MonteCarlo Probability = 58.158464397354024  %\n",
      "Difference             = 1.35650 %\n",
      "\n",
      "\n",
      "\n",
      "\n",
      "\n",
      "\n",
      "Query:\n",
      " [['C', -15, 5]]\n",
      "\n",
      "Evidence:\n",
      " [['B', -15, 5]] \n",
      "\n",
      "Empirical Probability  = 52.808315010993404  %\n",
      "MonteCarlo Probability = 53.11241258621264  %\n",
      "Difference             = 0.30410 %\n",
      "\n",
      "\n",
      "\n",
      "\n",
      "\n",
      "\n",
      "Query:\n",
      " [['C', -15, 5]]\n",
      "\n",
      "Evidence:\n",
      " [['A', -15, 15], ['B', -15, 15]] \n",
      "\n",
      "Empirical Probability  = 50.98920863309353  %\n",
      "MonteCarlo Probability = 49.12561791609966  %\n",
      "Difference             = 1.86359 %\n",
      "\n",
      "\n",
      "\n",
      "\n",
      "\n",
      "\n",
      "Query:\n",
      " [['D', -30, 1], ['C', -15, 0]]\n",
      "\n",
      "Evidence:\n",
      " [['A', -10, 1]] \n",
      "\n",
      "Empirical Probability  = 16.347011596788583  %\n",
      "MonteCarlo Probability = 19.385722371521112  %\n",
      "Difference             = 3.03871 %\n",
      "\n",
      "\n",
      "\n",
      "\n",
      "\n",
      "\n",
      "Query:\n",
      " [['D', -30, 1], ['C', -15, 0]]\n",
      "\n",
      "Evidence:\n",
      " [['B', -15, 5]] \n",
      "\n",
      "Empirical Probability  = 14.931041375174894  %\n",
      "MonteCarlo Probability = 14.077629766690226  %\n",
      "Difference             = 0.85341 %\n",
      "\n",
      "\n",
      "\n",
      "\n",
      "\n",
      "\n",
      "Query:\n",
      " [['D', -30, 1], ['C', -15, 0]]\n",
      "\n",
      "Evidence:\n",
      " [['A', -15, 15], ['B', -15, 15]] \n",
      "\n",
      "Empirical Probability  = 14.131551901336072  %\n",
      "MonteCarlo Probability = 14.96866733282413  %\n",
      "Difference             = 0.83712 %\n",
      "\n",
      "\n",
      "\n",
      "\n"
     ]
    }
   ],
   "source": [
    "queries = [ [[ 'D', -20, 15]]  ,\n",
    "            [['C',-15,5]],\n",
    "            [[ 'D', -30, 1]  , ['C',-15,0]]  \n",
    "          ]\n",
    " \n",
    "\n",
    "evidences = [ [[ 'A', -10, 1]]  ,\n",
    "              [['B',-15,5 ]],\n",
    "              [[ 'A', -15, 15], ['B',-15,15] ] \n",
    "            ]\n",
    "\n",
    "\n",
    "for query in queries:\n",
    "    \n",
    "\n",
    "    for evidence in evidences:\n",
    "        print('\\n\\nQuery:\\n',query)\n",
    "        print(\"\\nEvidence:\\n\",evidence, '\\n')\n",
    "        monte_prob     = cpquery_approx( query , evidence, bnde, n_samples = 1000, verbose=False )\n",
    "        empirical_prob = get_conditional_prob_cont(test_data_df ,  query , evidence , verbose=False)       \n",
    "       \n",
    "        print(\"Empirical Probability  =\", empirical_prob*100, ' %')\n",
    "        print(\"MonteCarlo Probability =\", monte_prob*100, ' %')\n",
    "        print(\"Difference             = {:0.5f} %\".format((np.abs(monte_prob-empirical_prob)*100)))\n",
    "        print('\\n\\n\\n')"
   ]
  },
  {
   "cell_type": "markdown",
   "metadata": {},
   "source": [
    "## Total Variation Distance (TVD)\n",
    "### Calculate TVD between True and Predicted PDFs"
   ]
  },
  {
   "cell_type": "code",
   "execution_count": 25,
   "metadata": {},
   "outputs": [],
   "source": [
    "# take a batch from test data\n",
    "num_examples=50\n",
    "rand_indices = np.random.choice(test_data_df.shape[0] , num_examples)\n",
    "test_data_df_batch = test_data_df.iloc[rand_indices]\n",
    "\n",
    "\n",
    "test_true_dist_params = test_dist_params[rand_indices]\n",
    "test_est_dist_params = bnde.get_prob_density_params( test_data=test_data_df_batch )"
   ]
  },
  {
   "cell_type": "code",
   "execution_count": 26,
   "metadata": {},
   "outputs": [],
   "source": [
    "## Learn LGM\n",
    "\n",
    "lgm = learn_LGM(bnde.bayes_net.structure, data_df)\n",
    "\n",
    "\n",
    "\n",
    "\n",
    "# Save Total-Variation-Distance between True Distribution and Estimated Distribution\n",
    "TVD_mol   = {'A':[],'B':[],'C':[],'D':[]}\n",
    "TVD_disc  = {'A':[],'B':[],'C':[],'D':[]}\n",
    "TVD_lgm   = {'A':[],'B':[],'C':[],'D':[]}\n",
    "\n",
    "\n",
    "\n",
    "node_support = {}\n",
    "node_support['A']  = np.linspace(-60,60,500)\n",
    "node_support['B']  = np.linspace(-60,60,500)\n",
    "node_support['C']  = np.linspace(-60,60,500)\n",
    "node_support['D']  = np.linspace(-60,60,500)\n",
    "\n",
    "\n",
    "\n",
    "for i in range(num_examples):\n",
    "    \n",
    "    for node in bnde.nodes:\n",
    "        \n",
    "        pa_node = bnde.bayes_net.structure[node]   # parents of node\n",
    "        pa_node_vals = test_data_df_batch[pa_node].values[i]  # values of parents of node\n",
    "        \n",
    "        \n",
    "        \n",
    "        _, P_true = convert_logistic_mixture_to_probs(param_matrix=test_true_dist_params[i, node_index[node]] , intervals= node_support[node] )\n",
    "        \n",
    "        \n",
    "        if node in bnde.bayes_net.all_root_nodes:\n",
    "            # MoL method\n",
    "            _ , P_mol  = convert_logistic_mixture_to_probs(param_matrix=test_est_dist_params[node] , intervals= node_support[node] )\n",
    "        \n",
    "           # Discretization Method\n",
    "            event_var = node \n",
    "            event_var_vals = range(0,len(node_support[node])+1)\n",
    "            evidence_var = [] \n",
    "            evidence_val = []\n",
    "            P_disc = get_conditional_prob_disc( data_disc_df , event_var, event_var_vals, evidence_var, evidence_val,  verbose=False,  nan2uniform=True)\n",
    "\n",
    "            # LGM Method\n",
    "            _ , P_lgm = convert_norm_pdf_to_probs(lgm[node][0], lgm[node][1], intervals=node_support[node])\n",
    "        \n",
    "        \n",
    "        \n",
    "        else:\n",
    "            # MoL method\n",
    "            _ , P_mol  = convert_logistic_mixture_to_probs(param_matrix=test_est_dist_params[node][i] , intervals= node_support[node] )\n",
    "        \n",
    "            # Discretization Method\n",
    "            event_var = node\n",
    "            event_var_vals = range(0,len(node_support[node])+1)\n",
    "\n",
    "            evidence_var = pa_node   # evidence nodes contain the parents of selected node\n",
    "            evidence_val = [ np.digitize(evid_node_val , node_support[evid_node])-1  for evid_node, evid_node_val in  zip(pa_node,pa_node_vals)  ]\n",
    "            # Continuous value of parent node is converted to corresponding bin index in which it lies\n",
    "            P_disc = get_conditional_prob_disc( data_disc_df , event_var, event_var_vals, evidence_var, evidence_val,  verbose=False, nan2uniform=True)\n",
    "        \n",
    "            # LGM Method\n",
    "            _, P_lgm  = convert_norm_pdf_to_probs( lgm[node][0].predict(pa_node_vals.reshape(1, -1)), lgm[node][1], intervals= node_support[node]  )\n",
    "    \n",
    "  \n",
    "\n",
    "        TVD_mol[node].append(  TVD(P_true,P_mol)  )\n",
    "        TVD_disc[node].append( TVD(P_true,P_disc) )\n",
    "        TVD_lgm[node].append(  TVD(P_true,P_lgm)  )"
   ]
  },
  {
   "cell_type": "code",
   "execution_count": 65,
   "metadata": {},
   "outputs": [],
   "source": [
    "np.save('TVD_mol.npy' , TVD_mol )  \n",
    "np.save('TVD_disc.npy', TVD_disc) \n",
    "np.save('TVD_lgm.npy' , TVD_lgm ) "
   ]
  },
  {
   "cell_type": "code",
   "execution_count": 59,
   "metadata": {},
   "outputs": [
    {
     "data": {
      "image/png": "[encoded data removed]",
      "text/plain": [
       "<Figure size 432x288 with 1 Axes>"
      ]
     },
     "metadata": {
      "needs_background": "light"
     },
     "output_type": "display_data"
    }
   ],
   "source": [
    "node='B'\n",
    "\n",
    "plt.plot(TVD_mol[node], color='C1')\n",
    "plt.plot(TVD_lgm[node], color='C2')\n",
    "plt.plot(TVD_disc[node], color='C4')\n",
    "plt.legend(['MoL', 'LGM','Discretization'], fontsize=15)\n",
    "plt.ylim([0,1])\n",
    "plt.show()"
   ]
  },
  {
   "cell_type": "code",
   "execution_count": 53,
   "metadata": {},
   "outputs": [
    {
     "name": "stdout",
     "output_type": "stream",
     "text": [
      "      MoL                 LGM                Disc\n",
      "A    0.023361095155613312 0.7107827290480375 0.17065184510030357\n",
      "A    0.0 1.1102230246251565e-16 2.7755575615628914e-17 \n",
      "\n",
      "B    0.04658639278742869 0.4376962033478498 0.3245141663546409\n",
      "B    0.019937488705968634 0.19022895919521166 0.1371396347265625 \n",
      "\n",
      "C    0.0902211154922784 0.3204667069173493 0.8484609404897314\n",
      "C    0.04657373123639022 0.1781087500415026 0.1723764633482432 \n",
      "\n",
      "D    0.1294039327876101 0.32211739280697244 0.6429653748140606\n",
      "D    0.09194197597984125 0.11896499521539942 0.1842835782251511 \n",
      "\n"
     ]
    }
   ],
   "source": [
    "print( '      MoL                 LGM                Disc'  )\n",
    "for node in bnde.nodes:\n",
    "    print( node, '  ',  np.mean(TVD_mol[node]) , np.mean(TVD_lgm[node]), np.mean(TVD_disc[node])    )\n",
    "    print( node, '  ',  np.std(TVD_mol[node]) , np.std(TVD_lgm[node]), np.std(TVD_disc[node])    , '\\n'  )"
   ]
  },
  {
   "cell_type": "code",
   "execution_count": null,
   "metadata": {},
   "outputs": [],
   "source": []
  },
  {
   "cell_type": "code",
   "execution_count": null,
   "metadata": {},
   "outputs": [],
   "source": []
  },
  {
   "cell_type": "code",
   "execution_count": 52,
   "metadata": {},
   "outputs": [
    {
     "data": {
      "text/plain": [
       "<matplotlib.legend.Legend at 0x2a4ebe76cc8>"
      ]
     },
     "execution_count": 52,
     "metadata": {},
     "output_type": "execute_result"
    },
    {
     "data": {
      "image/png": "[encoded data removed]",
      "text/plain": [
       "<Figure size 720x360 with 1 Axes>"
      ]
     },
     "metadata": {
      "needs_background": "light"
     },
     "output_type": "display_data"
    }
   ],
   "source": [
    "node='A'\n",
    "\n",
    "pa_node = bnde.bayes_net.structure[node]   # parents of node\n",
    "pa_node_vals = test_data_df_batch[pa_node].values[i]  # values of parents of node\n",
    "       \n",
    "\n",
    "_, P_true = convert_logistic_mixture_to_probs(param_matrix=test_true_dist_params[i, node_index[node]] , intervals= node_support[node] )\n",
    "\n",
    "\n",
    "_ , P_mol  = convert_logistic_mixture_to_probs(param_matrix=test_est_dist_params[node] , intervals= node_support[node] )\n",
    "\n",
    "# Discretization Method\n",
    "event_var = node\n",
    "event_var_vals = range(0,len(node_support[node])+1)\n",
    "\n",
    "evidence_var = pa_node   # evidence nodes contain the parents of selected node\n",
    "evidence_val = [ np.digitize(evid_node_val , node_support[evid_node])-1  for evid_node, evid_node_val in  zip(pa_node,pa_node_vals)  ]\n",
    "# Continuous value of parent node is converted to corresponding bin index in which it lies\n",
    "P_disc = get_conditional_prob_disc( data_disc_df , event_var, event_var_vals, evidence_var, evidence_val,  verbose=False, nan2uniform=True)\n",
    "\n",
    "# LGM Method\n",
    "_, P_lgm  = convert_norm_pdf_to_probs( lgm[node][0], lgm[node][1], intervals= node_support[node]  )\n",
    "\n",
    "\n",
    "plt.figure(figsize=(10,5))\n",
    "plt.plot(P_true)\n",
    "plt.plot(P_mol)\n",
    "plt.plot(P_lgm)\n",
    "plt.plot(P_disc)\n",
    "plt.legend(['true','mol','lgm','disc'], fontsize=15)"
   ]
  },
  {
   "cell_type": "code",
   "execution_count": 51,
   "metadata": {},
   "outputs": [
    {
     "data": {
      "text/plain": [
       "<matplotlib.legend.Legend at 0x2a4e8bb6f48>"
      ]
     },
     "execution_count": 51,
     "metadata": {},
     "output_type": "execute_result"
    },
    {
     "data": {
      "image/png": "[encoded data removed]",
      "text/plain": [
       "<Figure size 1080x720 with 1 Axes>"
      ]
     },
     "metadata": {
      "needs_background": "light"
     },
     "output_type": "display_data"
    }
   ],
   "source": [
    "node='D'\n",
    "\n",
    "pa_node = bnde.bayes_net.structure[node]   # parents of node\n",
    "pa_node_vals = test_data_df_batch[pa_node].values[i]  # values of parents of node\n",
    "       \n",
    "\n",
    "_, P_true = convert_logistic_mixture_to_probs(param_matrix=test_true_dist_params[i, node_index[node]] , intervals= node_support[node] )\n",
    "\n",
    "\n",
    "_ , P_mol  = convert_logistic_mixture_to_probs(param_matrix=test_est_dist_params[node][i] , intervals= node_support[node] )\n",
    "\n",
    "# Discretization Method\n",
    "event_var = node\n",
    "event_var_vals = range(0,len(node_support[node])+1)\n",
    "\n",
    "evidence_var = pa_node   # evidence nodes contain the parents of selected node\n",
    "evidence_val = [ np.digitize(evid_node_val , node_support[evid_node])-1  for evid_node, evid_node_val in  zip(pa_node,pa_node_vals)  ]\n",
    "# Continuous value of parent node is converted to corresponding bin index in which it lies\n",
    "P_disc = get_conditional_prob_disc( data_disc_df , event_var, event_var_vals, evidence_var, evidence_val,  verbose=False, nan2uniform=True)\n",
    "\n",
    "# LGM Method\n",
    "_, P_lgm  = convert_norm_pdf_to_probs( lgm[node][0].predict(pa_node_vals.reshape(1, -1)), lgm[node][1], intervals= node_support[node]  )\n",
    "\n",
    "\n",
    "plt.figure(figsize=(15,10))\n",
    "plt.plot(P_true)\n",
    "plt.plot(P_mol)\n",
    "plt.plot(P_lgm)\n",
    "#plt.plot(P_disc)\n",
    "plt.legend(['true','mol','lgm','disc'], fontsize=15)"
   ]
  },
  {
   "cell_type": "markdown",
   "metadata": {},
   "source": [
    "#### Converting Jupyter Notebook to HTML"
   ]
  },
  {
   "cell_type": "code",
   "execution_count": 1,
   "metadata": {},
   "outputs": [
    {
     "name": "stderr",
     "output_type": "stream",
     "text": [
      "[NbConvertApp] Converting notebook BayesianNetworkDensityEstimator_SeparateNetworks.ipynb to html\n",
      "[NbConvertApp] Writing 596083 bytes to BayesianNetworkDensityEstimator_SeparateNetworks.html\n"
     ]
    }
   ],
   "source": [
    "import os \n",
    "cwd = os.getcwd()\n",
    "os.chdir(cwd)\n",
    "\n",
    "\n",
    "!jupyter nbconvert BayesianNetworkDensityEstimator_SeparateNetworks.ipynb"
   ]
  },
  {
   "cell_type": "code",
   "execution_count": null,
   "metadata": {},
   "outputs": [],
   "source": []
  }
 ],
 "metadata": {
  "accelerator": "GPU",
  "colab": {
   "collapsed_sections": [],
   "name": "MIxture_Logistic_Loss.ipynb",
   "provenance": [],
   "toc_visible": true
  },
  "kernelspec": {
   "display_name": "Python 3",
   "language": "python",
   "name": "python3"
  },
  "language_info": {
   "codemirror_mode": {
    "name": "ipython",
    "version": 3
   },
   "file_extension": ".py",
   "mimetype": "text/x-python",
   "name": "python",
   "nbconvert_exporter": "python",
   "pygments_lexer": "ipython3",
   "version": "3.7.4"
  },
  "varInspector": {
   "cols": {
    "lenName": 16,
    "lenType": 16,
    "lenVar": 40
   },
   "kernels_config": {
    "python": {
     "delete_cmd_postfix": "",
     "delete_cmd_prefix": "del ",
     "library": "var_list.py",
     "varRefreshCmd": "print(var_dic_list())"
    },
    "r": {
     "delete_cmd_postfix": ") ",
     "delete_cmd_prefix": "rm(",
     "library": "var_list.r",
     "varRefreshCmd": "cat(var_dic_list()) "
    }
   },
   "position": {
    "height": "390px",
    "left": "922px",
    "right": "20px",
    "top": "120px",
    "width": "357px"
   },
   "types_to_exclude": [
    "module",
    "function",
    "builtin_function_or_method",
    "instance",
    "_Feature"
   ],
   "window_display": false
  },
  "widgets": {
   "application/vnd.jupyter.widget-state+json": {
    "state": {
     "0d818f09adb24f45b5b31c68964cd037": {
      "model_module": "@jupyter-widgets/base",
      "model_module_version": "1.2.0",
      "model_name": "LayoutModel",
      "state": {}
     },
     "14183519af6a4f7ea6f483891d3455aa": {
      "model_module": "@jupyter-widgets/controls",
      "model_module_version": "1.5.0",
      "model_name": "VBoxModel",
      "state": {
       "_dom_classes": [
        "widget-interact"
       ],
       "children": [
        "IPY_MODEL_6ad9cd47a26f4b9ca3cf93c8f9a331b2",
        "IPY_MODEL_a007ee178e7540aaaabf55a7855bdece",
        "IPY_MODEL_752f3b0533c344878e061110eefa849e"
       ],
       "layout": "IPY_MODEL_348f47b3f1e041889deec1a10aee63e3"
      }
     },
     "1ba37079f56643ff9ef99be1aa8afbe8": {
      "model_module": "@jupyter-widgets/base",
      "model_module_version": "1.2.0",
      "model_name": "LayoutModel",
      "state": {}
     },
     "2050ba7d52314f759252fe9015ff44f0": {
      "model_module": "@jupyter-widgets/base",
      "model_module_version": "1.2.0",
      "model_name": "LayoutModel",
      "state": {}
     },
     "2848274a92034eda82e295f646a38e38": {
      "model_module": "@jupyter-widgets/output",
      "model_module_version": "1.0.0",
      "model_name": "OutputModel",
      "state": {
       "layout": "IPY_MODEL_2050ba7d52314f759252fe9015ff44f0",
       "outputs": [
        {
         "ename": "IndexError",
         "evalue": "index 10 is out of bounds for axis 0 with size 10",
         "output_type": "error",
         "traceback": [
          "\u001b[1;31m---------------------------------------------------------------------------\u001b[0m",
          "\u001b[1;31mIndexError\u001b[0m                                Traceback (most recent call last)",
          "\u001b[1;32mC:\\ProgramData\\Anaconda3\\lib\\site-packages\\ipywidgets\\widgets\\interaction.py\u001b[0m in \u001b[0;36mupdate\u001b[1;34m(self, *args)\u001b[0m\n\u001b[0;32m    254\u001b[0m                     \u001b[0mvalue\u001b[0m \u001b[1;33m=\u001b[0m \u001b[0mwidget\u001b[0m\u001b[1;33m.\u001b[0m\u001b[0mget_interact_value\u001b[0m\u001b[1;33m(\u001b[0m\u001b[1;33m)\u001b[0m\u001b[1;33m\u001b[0m\u001b[1;33m\u001b[0m\u001b[0m\n\u001b[0;32m    255\u001b[0m                     \u001b[0mself\u001b[0m\u001b[1;33m.\u001b[0m\u001b[0mkwargs\u001b[0m\u001b[1;33m[\u001b[0m\u001b[0mwidget\u001b[0m\u001b[1;33m.\u001b[0m\u001b[0m_kwarg\u001b[0m\u001b[1;33m]\u001b[0m \u001b[1;33m=\u001b[0m \u001b[0mvalue\u001b[0m\u001b[1;33m\u001b[0m\u001b[1;33m\u001b[0m\u001b[0m\n\u001b[1;32m--> 256\u001b[1;33m                 \u001b[0mself\u001b[0m\u001b[1;33m.\u001b[0m\u001b[0mresult\u001b[0m \u001b[1;33m=\u001b[0m \u001b[0mself\u001b[0m\u001b[1;33m.\u001b[0m\u001b[0mf\u001b[0m\u001b[1;33m(\u001b[0m\u001b[1;33m**\u001b[0m\u001b[0mself\u001b[0m\u001b[1;33m.\u001b[0m\u001b[0mkwargs\u001b[0m\u001b[1;33m)\u001b[0m\u001b[1;33m\u001b[0m\u001b[1;33m\u001b[0m\u001b[0m\n\u001b[0m\u001b[0;32m    257\u001b[0m                 \u001b[0mshow_inline_matplotlib_plots\u001b[0m\u001b[1;33m(\u001b[0m\u001b[1;33m)\u001b[0m\u001b[1;33m\u001b[0m\u001b[1;33m\u001b[0m\u001b[0m\n\u001b[0;32m    258\u001b[0m                 \u001b[1;32mif\u001b[0m \u001b[0mself\u001b[0m\u001b[1;33m.\u001b[0m\u001b[0mauto_display\u001b[0m \u001b[1;32mand\u001b[0m \u001b[0mself\u001b[0m\u001b[1;33m.\u001b[0m\u001b[0mresult\u001b[0m \u001b[1;32mis\u001b[0m \u001b[1;32mnot\u001b[0m \u001b[1;32mNone\u001b[0m\u001b[1;33m:\u001b[0m\u001b[1;33m\u001b[0m\u001b[1;33m\u001b[0m\u001b[0m\n",
          "\u001b[1;32m<ipython-input-22-0fa8f15dd022>\u001b[0m in \u001b[0;36mplot_true_predicted_pdf\u001b[1;34m(i, node)\u001b[0m\n\u001b[0;32m      6\u001b[0m         \u001b[0mtitle\u001b[0m\u001b[1;33m=\u001b[0m \u001b[1;34m'$f('\u001b[0m\u001b[1;33m+\u001b[0m\u001b[0mnode\u001b[0m\u001b[1;33m+\u001b[0m\u001b[1;34m')$'\u001b[0m\u001b[1;33m\u001b[0m\u001b[1;33m\u001b[0m\u001b[0m\n\u001b[0;32m      7\u001b[0m     \u001b[1;32melse\u001b[0m\u001b[1;33m:\u001b[0m\u001b[1;33m\u001b[0m\u001b[1;33m\u001b[0m\u001b[0m\n\u001b[1;32m----> 8\u001b[1;33m         \u001b[0msupport\u001b[0m \u001b[1;33m,\u001b[0m \u001b[0mpdf_true\u001b[0m \u001b[1;33m=\u001b[0m \u001b[0mget_mix_logistic_pdf\u001b[0m\u001b[1;33m(\u001b[0m\u001b[0mparam_matrix\u001b[0m\u001b[1;33m=\u001b[0m\u001b[0mtest_true_dist_params\u001b[0m\u001b[1;33m[\u001b[0m\u001b[0mi\u001b[0m\u001b[1;33m,\u001b[0m\u001b[0mnode_index\u001b[0m\u001b[1;33m[\u001b[0m\u001b[0mnode\u001b[0m\u001b[1;33m]\u001b[0m\u001b[1;33m]\u001b[0m \u001b[1;33m)\u001b[0m\u001b[1;33m\u001b[0m\u001b[1;33m\u001b[0m\u001b[0m\n\u001b[0m\u001b[0;32m      9\u001b[0m         \u001b[0m_\u001b[0m \u001b[1;33m,\u001b[0m \u001b[0mpdf_est\u001b[0m  \u001b[1;33m=\u001b[0m \u001b[0mget_mix_logistic_pdf\u001b[0m\u001b[1;33m(\u001b[0m\u001b[0mparam_matrix\u001b[0m\u001b[1;33m=\u001b[0m\u001b[0mtest_est_dist_params\u001b[0m\u001b[1;33m[\u001b[0m\u001b[0mnode\u001b[0m\u001b[1;33m]\u001b[0m\u001b[1;33m[\u001b[0m\u001b[0mi\u001b[0m\u001b[1;33m]\u001b[0m\u001b[1;33m)\u001b[0m\u001b[1;33m\u001b[0m\u001b[1;33m\u001b[0m\u001b[0m\n\u001b[0;32m     10\u001b[0m \u001b[1;33m\u001b[0m\u001b[0m\n",
          "\u001b[1;31mIndexError\u001b[0m: index 10 is out of bounds for axis 0 with size 10"
         ]
        }
       ]
      }
     },
     "348f47b3f1e041889deec1a10aee63e3": {
      "model_module": "@jupyter-widgets/base",
      "model_module_version": "1.2.0",
      "model_name": "LayoutModel",
      "state": {}
     },
     "387645c6782840bc8742948145255b7e": {
      "model_module": "@jupyter-widgets/base",
      "model_module_version": "1.2.0",
      "model_name": "LayoutModel",
      "state": {}
     },
     "3c4da812867f48cfab7f59ad7f9805cb": {
      "model_module": "@jupyter-widgets/controls",
      "model_module_version": "1.5.0",
      "model_name": "VBoxModel",
      "state": {
       "_dom_classes": [
        "widget-interact"
       ],
       "children": [
        "IPY_MODEL_4491eee8bc7e4f518222b688c417f96c",
        "IPY_MODEL_d155a6d048a74b64b048cee7847e5a15",
        "IPY_MODEL_2848274a92034eda82e295f646a38e38"
       ],
       "layout": "IPY_MODEL_9791dce475924ca782f1fd9bf1bbe80e"
      }
     },
     "3fad5499d3b2461b96283e60ec1f2eab": {
      "model_module": "@jupyter-widgets/controls",
      "model_module_version": "1.5.0",
      "model_name": "SliderStyleModel",
      "state": {
       "description_width": ""
      }
     },
     "4491eee8bc7e4f518222b688c417f96c": {
      "model_module": "@jupyter-widgets/controls",
      "model_module_version": "1.5.0",
      "model_name": "IntSliderModel",
      "state": {
       "description": "i",
       "layout": "IPY_MODEL_61b75eccd2534d1db57c6b8d5644db61",
       "max": 10,
       "style": "IPY_MODEL_3fad5499d3b2461b96283e60ec1f2eab",
       "value": 10
      }
     },
     "61b75eccd2534d1db57c6b8d5644db61": {
      "model_module": "@jupyter-widgets/base",
      "model_module_version": "1.2.0",
      "model_name": "LayoutModel",
      "state": {}
     },
     "6ad9cd47a26f4b9ca3cf93c8f9a331b2": {
      "model_module": "@jupyter-widgets/controls",
      "model_module_version": "1.5.0",
      "model_name": "IntSliderModel",
      "state": {
       "description": "i",
       "layout": "IPY_MODEL_387645c6782840bc8742948145255b7e",
       "max": 9,
       "style": "IPY_MODEL_adb32b51a9694254b01c49cdbfa68529",
       "value": 5
      }
     },
     "752f3b0533c344878e061110eefa849e": {
      "model_module": "@jupyter-widgets/output",
      "model_module_version": "1.0.0",
      "model_name": "OutputModel",
      "state": {
       "layout": "IPY_MODEL_ad956ce4de1b4fb1bc865f9a78e598c2",
       "outputs": [
        {
         "data": {
          "image/png": "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\n",
          "text/plain": "<Figure size 720x360 with 1 Axes>"
         },
         "metadata": {
          "needs_background": "light"
         },
         "output_type": "display_data"
        }
       ]
      }
     },
     "81585423ef2d42da97fa590d12d0c953": {
      "model_module": "@jupyter-widgets/controls",
      "model_module_version": "1.5.0",
      "model_name": "VBoxModel",
      "state": {
       "_dom_classes": [
        "widget-interact"
       ],
       "children": [
        "IPY_MODEL_971af7ab525743ba9a885d95caec0260",
        "IPY_MODEL_ba939c8bda4446189c162812109626aa",
        "IPY_MODEL_ea382a4656064500a50ac0f36d08d821"
       ],
       "layout": "IPY_MODEL_f216119f773f481792a73ee1a26b7982"
      }
     },
     "8f97671d84c246a8821adb001f5ad719": {
      "model_module": "@jupyter-widgets/controls",
      "model_module_version": "1.5.0",
      "model_name": "DescriptionStyleModel",
      "state": {
       "description_width": ""
      }
     },
     "971af7ab525743ba9a885d95caec0260": {
      "model_module": "@jupyter-widgets/controls",
      "model_module_version": "1.5.0",
      "model_name": "IntSliderModel",
      "state": {
       "description": "i",
       "layout": "IPY_MODEL_0d818f09adb24f45b5b31c68964cd037",
       "max": 10,
       "style": "IPY_MODEL_fd92409b004148df8428a5d7333f60db",
       "value": 10
      }
     },
     "9791dce475924ca782f1fd9bf1bbe80e": {
      "model_module": "@jupyter-widgets/base",
      "model_module_version": "1.2.0",
      "model_name": "LayoutModel",
      "state": {}
     },
     "a007ee178e7540aaaabf55a7855bdece": {
      "model_module": "@jupyter-widgets/controls",
      "model_module_version": "1.5.0",
      "model_name": "DropdownModel",
      "state": {
       "_options_labels": [
        "A",
        "B",
        "C",
        "D"
       ],
       "description": "node",
       "index": 2,
       "layout": "IPY_MODEL_e70778385f224b08ae5e2e6c728fdee4",
       "style": "IPY_MODEL_e43060a33de244d7849788c183c3327e"
      }
     },
     "ad956ce4de1b4fb1bc865f9a78e598c2": {
      "model_module": "@jupyter-widgets/base",
      "model_module_version": "1.2.0",
      "model_name": "LayoutModel",
      "state": {}
     },
     "adb32b51a9694254b01c49cdbfa68529": {
      "model_module": "@jupyter-widgets/controls",
      "model_module_version": "1.5.0",
      "model_name": "SliderStyleModel",
      "state": {
       "description_width": ""
      }
     },
     "ba939c8bda4446189c162812109626aa": {
      "model_module": "@jupyter-widgets/controls",
      "model_module_version": "1.5.0",
      "model_name": "DropdownModel",
      "state": {
       "_options_labels": [
        "A",
        "B",
        "C",
        "D"
       ],
       "description": "node",
       "index": 1,
       "layout": "IPY_MODEL_d8762d0412a84271a2f04e42fe1e8588",
       "style": "IPY_MODEL_8f97671d84c246a8821adb001f5ad719"
      }
     },
     "d155a6d048a74b64b048cee7847e5a15": {
      "model_module": "@jupyter-widgets/controls",
      "model_module_version": "1.5.0",
      "model_name": "DropdownModel",
      "state": {
       "_options_labels": [
        "A",
        "B",
        "C",
        "D"
       ],
       "description": "node",
       "index": 1,
       "layout": "IPY_MODEL_d3d976790742438aac3e28fae4949579",
       "style": "IPY_MODEL_ff4555bb42e24f6786e48d51bcac4f8b"
      }
     },
     "d3d976790742438aac3e28fae4949579": {
      "model_module": "@jupyter-widgets/base",
      "model_module_version": "1.2.0",
      "model_name": "LayoutModel",
      "state": {}
     },
     "d8762d0412a84271a2f04e42fe1e8588": {
      "model_module": "@jupyter-widgets/base",
      "model_module_version": "1.2.0",
      "model_name": "LayoutModel",
      "state": {}
     },
     "e43060a33de244d7849788c183c3327e": {
      "model_module": "@jupyter-widgets/controls",
      "model_module_version": "1.5.0",
      "model_name": "DescriptionStyleModel",
      "state": {
       "description_width": ""
      }
     },
     "e70778385f224b08ae5e2e6c728fdee4": {
      "model_module": "@jupyter-widgets/base",
      "model_module_version": "1.2.0",
      "model_name": "LayoutModel",
      "state": {}
     },
     "ea382a4656064500a50ac0f36d08d821": {
      "model_module": "@jupyter-widgets/output",
      "model_module_version": "1.0.0",
      "model_name": "OutputModel",
      "state": {
       "layout": "IPY_MODEL_1ba37079f56643ff9ef99be1aa8afbe8",
       "outputs": [
        {
         "ename": "IndexError",
         "evalue": "index 10 is out of bounds for axis 0 with size 10",
         "output_type": "error",
         "traceback": [
          "\u001b[1;31m---------------------------------------------------------------------------\u001b[0m",
          "\u001b[1;31mIndexError\u001b[0m                                Traceback (most recent call last)",
          "\u001b[1;32mC:\\ProgramData\\Anaconda3\\lib\\site-packages\\ipywidgets\\widgets\\interaction.py\u001b[0m in \u001b[0;36mupdate\u001b[1;34m(self, *args)\u001b[0m\n\u001b[0;32m    254\u001b[0m                     \u001b[0mvalue\u001b[0m \u001b[1;33m=\u001b[0m \u001b[0mwidget\u001b[0m\u001b[1;33m.\u001b[0m\u001b[0mget_interact_value\u001b[0m\u001b[1;33m(\u001b[0m\u001b[1;33m)\u001b[0m\u001b[1;33m\u001b[0m\u001b[1;33m\u001b[0m\u001b[0m\n\u001b[0;32m    255\u001b[0m                     \u001b[0mself\u001b[0m\u001b[1;33m.\u001b[0m\u001b[0mkwargs\u001b[0m\u001b[1;33m[\u001b[0m\u001b[0mwidget\u001b[0m\u001b[1;33m.\u001b[0m\u001b[0m_kwarg\u001b[0m\u001b[1;33m]\u001b[0m \u001b[1;33m=\u001b[0m \u001b[0mvalue\u001b[0m\u001b[1;33m\u001b[0m\u001b[1;33m\u001b[0m\u001b[0m\n\u001b[1;32m--> 256\u001b[1;33m                 \u001b[0mself\u001b[0m\u001b[1;33m.\u001b[0m\u001b[0mresult\u001b[0m \u001b[1;33m=\u001b[0m \u001b[0mself\u001b[0m\u001b[1;33m.\u001b[0m\u001b[0mf\u001b[0m\u001b[1;33m(\u001b[0m\u001b[1;33m**\u001b[0m\u001b[0mself\u001b[0m\u001b[1;33m.\u001b[0m\u001b[0mkwargs\u001b[0m\u001b[1;33m)\u001b[0m\u001b[1;33m\u001b[0m\u001b[1;33m\u001b[0m\u001b[0m\n\u001b[0m\u001b[0;32m    257\u001b[0m                 \u001b[0mshow_inline_matplotlib_plots\u001b[0m\u001b[1;33m(\u001b[0m\u001b[1;33m)\u001b[0m\u001b[1;33m\u001b[0m\u001b[1;33m\u001b[0m\u001b[0m\n\u001b[0;32m    258\u001b[0m                 \u001b[1;32mif\u001b[0m \u001b[0mself\u001b[0m\u001b[1;33m.\u001b[0m\u001b[0mauto_display\u001b[0m \u001b[1;32mand\u001b[0m \u001b[0mself\u001b[0m\u001b[1;33m.\u001b[0m\u001b[0mresult\u001b[0m \u001b[1;32mis\u001b[0m \u001b[1;32mnot\u001b[0m \u001b[1;32mNone\u001b[0m\u001b[1;33m:\u001b[0m\u001b[1;33m\u001b[0m\u001b[1;33m\u001b[0m\u001b[0m\n",
          "\u001b[1;32m<ipython-input-24-0fa8f15dd022>\u001b[0m in \u001b[0;36mplot_true_predicted_pdf\u001b[1;34m(i, node)\u001b[0m\n\u001b[0;32m      6\u001b[0m         \u001b[0mtitle\u001b[0m\u001b[1;33m=\u001b[0m \u001b[1;34m'$f('\u001b[0m\u001b[1;33m+\u001b[0m\u001b[0mnode\u001b[0m\u001b[1;33m+\u001b[0m\u001b[1;34m')$'\u001b[0m\u001b[1;33m\u001b[0m\u001b[1;33m\u001b[0m\u001b[0m\n\u001b[0;32m      7\u001b[0m     \u001b[1;32melse\u001b[0m\u001b[1;33m:\u001b[0m\u001b[1;33m\u001b[0m\u001b[1;33m\u001b[0m\u001b[0m\n\u001b[1;32m----> 8\u001b[1;33m         \u001b[0msupport\u001b[0m \u001b[1;33m,\u001b[0m \u001b[0mpdf_true\u001b[0m \u001b[1;33m=\u001b[0m \u001b[0mget_mix_logistic_pdf\u001b[0m\u001b[1;33m(\u001b[0m\u001b[0mparam_matrix\u001b[0m\u001b[1;33m=\u001b[0m\u001b[0mtest_true_dist_params\u001b[0m\u001b[1;33m[\u001b[0m\u001b[0mi\u001b[0m\u001b[1;33m,\u001b[0m\u001b[0mnode_index\u001b[0m\u001b[1;33m[\u001b[0m\u001b[0mnode\u001b[0m\u001b[1;33m]\u001b[0m\u001b[1;33m]\u001b[0m \u001b[1;33m)\u001b[0m\u001b[1;33m\u001b[0m\u001b[1;33m\u001b[0m\u001b[0m\n\u001b[0m\u001b[0;32m      9\u001b[0m         \u001b[0m_\u001b[0m \u001b[1;33m,\u001b[0m \u001b[0mpdf_est\u001b[0m  \u001b[1;33m=\u001b[0m \u001b[0mget_mix_logistic_pdf\u001b[0m\u001b[1;33m(\u001b[0m\u001b[0mparam_matrix\u001b[0m\u001b[1;33m=\u001b[0m\u001b[0mtest_est_dist_params\u001b[0m\u001b[1;33m[\u001b[0m\u001b[0mnode\u001b[0m\u001b[1;33m]\u001b[0m\u001b[1;33m[\u001b[0m\u001b[0mi\u001b[0m\u001b[1;33m]\u001b[0m\u001b[1;33m)\u001b[0m\u001b[1;33m\u001b[0m\u001b[1;33m\u001b[0m\u001b[0m\n\u001b[0;32m     10\u001b[0m \u001b[1;33m\u001b[0m\u001b[0m\n",
          "\u001b[1;31mIndexError\u001b[0m: index 10 is out of bounds for axis 0 with size 10"
         ]
        }
       ]
      }
     },
     "f216119f773f481792a73ee1a26b7982": {
      "model_module": "@jupyter-widgets/base",
      "model_module_version": "1.2.0",
      "model_name": "LayoutModel",
      "state": {}
     },
     "fd92409b004148df8428a5d7333f60db": {
      "model_module": "@jupyter-widgets/controls",
      "model_module_version": "1.5.0",
      "model_name": "SliderStyleModel",
      "state": {
       "description_width": ""
      }
     },
     "ff4555bb42e24f6786e48d51bcac4f8b": {
      "model_module": "@jupyter-widgets/controls",
      "model_module_version": "1.5.0",
      "model_name": "DescriptionStyleModel",
      "state": {
       "description_width": ""
      }
     }
    },
    "version_major": 2,
    "version_minor": 0
   }
  }
 },
 "nbformat": 4,
 "nbformat_minor": 1
}
